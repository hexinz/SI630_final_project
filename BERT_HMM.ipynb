{
 "cells": [
  {
   "cell_type": "code",
   "execution_count": 5,
   "metadata": {},
   "outputs": [
    {
     "data": {
      "application/vnd.jupyter.widget-view+json": {
       "model_id": "56ac4e25bf774ce9b452a1639b90b233",
       "version_major": 2,
       "version_minor": 0
      },
      "text/plain": [
       "HBox(children=(FloatProgress(value=0.0, description='Downloading', max=456318.0, style=ProgressStyle(descripti…"
      ]
     },
     "metadata": {},
     "output_type": "display_data"
    },
    {
     "name": "stdout",
     "output_type": "stream",
     "text": [
      "\n"
     ]
    }
   ],
   "source": [
    "import numpy as np\n",
    "import pandas as pd\n",
    "import matplotlib.pyplot as plt\n",
    "from nltk.tokenize import RegexpTokenizer\n",
    "import seaborn as sns\n",
    "import spacy\n",
    "# nlp = spacy.load('en_core_web_sm')\n",
    "import en_core_web_sm\n",
    "nlp = en_core_web_sm.load()\n",
    "from collections import Counter\n",
    "import json\n",
    "\n",
    "workDir = '~/Documents/UMSI/630-NLP/FinalProject/'\n",
    "trainfile = 'tsd_train.csv'\n",
    "testfile = 'tsd_test.csv'\n",
    "\n",
    "import re\n",
    "from transformers import BertTokenizer\n",
    "from transformers import AutoModel, AutoTokenizer\n",
    "\n",
    "# tokenizer = AutoTokenizer.from_pretrained(\"roberta-base\")\n",
    "tokenizer = BertTokenizer.from_pretrained('bert-base-uncased')\n"
   ]
  },
  {
   "cell_type": "code",
   "execution_count": 2,
   "metadata": {},
   "outputs": [],
   "source": [
    "# import torch\n",
    "# from pytorch_pretrained_bert import BertTokenizer, BertModel, BertForMaskedLM\n",
    "# model = BertModel.from_pretrained('bert-base-uncased')\n",
    "# tokenizer = BertTokenizer.from_pretrained('bert-base-uncased')\n",
    "# model.eval()"
   ]
  },
  {
   "cell_type": "code",
   "execution_count": 6,
   "metadata": {},
   "outputs": [],
   "source": [
    "def read_data(file_name):\n",
    "    '''\n",
    "    read data and analyze different types of tokens. (bert is better since it consider word and character level)\n",
    "    '''\n",
    "    data = pd.read_csv(file_name)\n",
    "    sent_list = data['text']\n",
    "    sent_label = data['spans']\n",
    "    sent_list = [x.lower() for x in sent_list]\n",
    "    print(len(sent_list))\n",
    "    sns.histplot([len(x) for x in sent_list], bins=[64 * i for i in range(20)])\n",
    "    plt.show()\n",
    "    print(sent_list[1])\n",
    "    \n",
    "    tokenizer_origin = RegexpTokenizer(r'[^\\s]+')\n",
    "    tokens_list = [tokenizer_origin.tokenize(x) for x in sent_list]\n",
    "    sns.histplot([len(x) for x in tokens_list], bins=[12 * i for i in range(20)])\n",
    "    plt.show()\n",
    "    print(tokens_list[1])\n",
    "    \n",
    "    tokens_list = [tokenizer.tokenize(x) for x in sent_list]\n",
    "    sns.histplot([len(x) for x in tokens_list], bins=[12 * i for i in range(20)])\n",
    "    plt.show()\n",
    "    print(tokens_list[1])\n",
    "    \n",
    "    return sent_list, sent_label, tokens_list"
   ]
  },
  {
   "cell_type": "code",
   "execution_count": 4,
   "metadata": {},
   "outputs": [],
   "source": [
    "# adf... fad!\n",
    "# adf . . . fad !\n",
    "# (0,3), (3,4), (4,5), (5,6), (7,10), (10,11)\n",
    "from tqdm import tqdm\n",
    "def bert_token_labeling(sent_ls):\n",
    "    '''\n",
    "    get the bert tokens and the encoded ids\n",
    "    '''\n",
    "    tokens_idx = []\n",
    "    tokens_en = []\n",
    "    for sent in sent_ls:   \n",
    "        token_idx = []\n",
    "        token_en = []\n",
    "        for m in re.finditer(r'\\S+', sent):\n",
    "            raw = m.group(0)\n",
    "            encodes = tokenizer.encode(raw, add_special_tokens=False)\n",
    "            tokens = tokenizer.tokenize(raw)\n",
    "            head = m.start()\n",
    "            for num, token in enumerate(tokens):\n",
    "                tail = head + len(token)\n",
    "                token_idx.append((token, (head, tail)))\n",
    "                token_en.append(encodes[num])\n",
    "                head = tail\n",
    "        tokens_idx.append(token_idx)\n",
    "        tokens_en.append(token_en)\n",
    "    return tokens_idx, tokens_en"
   ]
  },
  {
   "cell_type": "code",
   "execution_count": 5,
   "metadata": {},
   "outputs": [
    {
     "name": "stdout",
     "output_type": "stream",
     "text": [
      "7939\n"
     ]
    },
    {
     "data": {
      "image/png": "[encoded data removed]",
      "text/plain": [
       "<Figure size 432x288 with 1 Axes>"
      ]
     },
     "metadata": {
      "needs_background": "light"
     },
     "output_type": "display_data"
    },
    {
     "name": "stdout",
     "output_type": "stream",
     "text": [
      "i am 56 years old, i am not your fucking junior pal. what you are saying makes no sense. i don't know what you are basing this on. the cheap black market crap is still coming up from mexican nationals, and the good stuff from bc and humbolt.  the i5 corridor is still just as busy, and they are still making a ton of money. nothing has really changed except that the legal market has made it easy for anyone of legal age to buy it.  and the legal market is controlled by corporate growers with million dollar facilities, or a co-op of smaller growers. the federal government \"war on drugs\" really has no impact on the legal market in oregon. i don't see any glutton of weed, whatever that means.\n"
     ]
    },
    {
     "data": {
      "image/png": "[encoded data removed]",
      "text/plain": [
       "<Figure size 432x288 with 1 Axes>"
      ]
     },
     "metadata": {
      "needs_background": "light"
     },
     "output_type": "display_data"
    },
    {
     "name": "stdout",
     "output_type": "stream",
     "text": [
      "['i', 'am', '56', 'years', 'old,', 'i', 'am', 'not', 'your', 'fucking', 'junior', 'pal.', 'what', 'you', 'are', 'saying', 'makes', 'no', 'sense.', 'i', \"don't\", 'know', 'what', 'you', 'are', 'basing', 'this', 'on.', 'the', 'cheap', 'black', 'market', 'crap', 'is', 'still', 'coming', 'up', 'from', 'mexican', 'nationals,', 'and', 'the', 'good', 'stuff', 'from', 'bc', 'and', 'humbolt.', 'the', 'i5', 'corridor', 'is', 'still', 'just', 'as', 'busy,', 'and', 'they', 'are', 'still', 'making', 'a', 'ton', 'of', 'money.', 'nothing', 'has', 'really', 'changed', 'except', 'that', 'the', 'legal', 'market', 'has', 'made', 'it', 'easy', 'for', 'anyone', 'of', 'legal', 'age', 'to', 'buy', 'it.', 'and', 'the', 'legal', 'market', 'is', 'controlled', 'by', 'corporate', 'growers', 'with', 'million', 'dollar', 'facilities,', 'or', 'a', 'co-op', 'of', 'smaller', 'growers.', 'the', 'federal', 'government', '\"war', 'on', 'drugs\"', 'really', 'has', 'no', 'impact', 'on', 'the', 'legal', 'market', 'in', 'oregon.', 'i', \"don't\", 'see', 'any', 'glutton', 'of', 'weed,', 'whatever', 'that', 'means.']\n"
     ]
    },
    {
     "data": {
      "image/png": "[encoded data removed]",
      "text/plain": [
       "<Figure size 432x288 with 1 Axes>"
      ]
     },
     "metadata": {
      "needs_background": "light"
     },
     "output_type": "display_data"
    },
    {
     "name": "stdout",
     "output_type": "stream",
     "text": [
      "['i', 'am', '56', 'years', 'old', ',', 'i', 'am', 'not', 'your', 'fucking', 'junior', 'pal', '.', 'what', 'you', 'are', 'saying', 'makes', 'no', 'sense', '.', 'i', 'don', \"'\", 't', 'know', 'what', 'you', 'are', 'basin', '##g', 'this', 'on', '.', 'the', 'cheap', 'black', 'market', 'crap', 'is', 'still', 'coming', 'up', 'from', 'mexican', 'nationals', ',', 'and', 'the', 'good', 'stuff', 'from', 'bc', 'and', 'hum', '##bolt', '.', 'the', 'i', '##5', 'corridor', 'is', 'still', 'just', 'as', 'busy', ',', 'and', 'they', 'are', 'still', 'making', 'a', 'ton', 'of', 'money', '.', 'nothing', 'has', 'really', 'changed', 'except', 'that', 'the', 'legal', 'market', 'has', 'made', 'it', 'easy', 'for', 'anyone', 'of', 'legal', 'age', 'to', 'buy', 'it', '.', 'and', 'the', 'legal', 'market', 'is', 'controlled', 'by', 'corporate', 'grow', '##ers', 'with', 'million', 'dollar', 'facilities', ',', 'or', 'a', 'co', '-', 'op', 'of', 'smaller', 'grow', '##ers', '.', 'the', 'federal', 'government', '\"', 'war', 'on', 'drugs', '\"', 'really', 'has', 'no', 'impact', 'on', 'the', 'legal', 'market', 'in', 'oregon', '.', 'i', 'don', \"'\", 't', 'see', 'any', 'g', '##lu', '##tton', 'of', 'weed', ',', 'whatever', 'that', 'means', '.']\n"
     ]
    }
   ],
   "source": [
    "sent_list, sent_label, tokens_list = read_data(workDir + trainfile)"
   ]
  },
  {
   "cell_type": "code",
   "execution_count": 6,
   "metadata": {},
   "outputs": [
    {
     "data": {
      "text/plain": [
       "(7939, 7939, 7939)"
      ]
     },
     "execution_count": 6,
     "metadata": {},
     "output_type": "execute_result"
    }
   ],
   "source": [
    "tokens_index, tokens_en = bert_token_labeling(sent_list)\n",
    "len(tokens_list), len(tokens_index), len(tokens_en)"
   ]
  },
  {
   "cell_type": "code",
   "execution_count": 7,
   "metadata": {},
   "outputs": [],
   "source": [
    "import json\n",
    "def labeling(tokens_idx, sent_lbl):\n",
    "    '''\n",
    "    label the bert tokens according to the ground truth labels\n",
    "    '''\n",
    "    result = []\n",
    "    for i in range(len(tokens_idx)):\n",
    "        isneg_ls = []\n",
    "        for tup in tokens_idx[i]:\n",
    "            isneg = 0\n",
    "            for index in range(tup[1][0], tup[1][1]):\n",
    "                if index in json.loads(sent_lbl[i]):\n",
    "                    isneg = 1\n",
    "                    break\n",
    "            isneg_ls.append(isneg)\n",
    "        result.append(isneg_ls)\n",
    "    return result"
   ]
  },
  {
   "cell_type": "code",
   "execution_count": 8,
   "metadata": {},
   "outputs": [
    {
     "data": {
      "text/plain": [
       "(['another',\n",
       "  'violent',\n",
       "  'and',\n",
       "  'aggressive',\n",
       "  'immigrant',\n",
       "  'killing',\n",
       "  'a',\n",
       "  'innocent',\n",
       "  'and',\n",
       "  'intelligent',\n",
       "  'us',\n",
       "  'citizen',\n",
       "  '.',\n",
       "  '.',\n",
       "  '.',\n",
       "  '.',\n",
       "  'sarcasm'],\n",
       " [0, 1, 1, 1, 1, 0, 0, 0, 0, 0, 0, 0, 0, 0, 0, 0, 0],\n",
       " [2178,\n",
       "  6355,\n",
       "  1998,\n",
       "  9376,\n",
       "  11560,\n",
       "  4288,\n",
       "  1037,\n",
       "  7036,\n",
       "  1998,\n",
       "  9414,\n",
       "  2149,\n",
       "  6926,\n",
       "  1012,\n",
       "  1012,\n",
       "  1012,\n",
       "  1012,\n",
       "  20954])"
      ]
     },
     "execution_count": 8,
     "metadata": {},
     "output_type": "execute_result"
    }
   ],
   "source": [
    "tokens_label = labeling(tokens_index, sent_label)\n",
    "tokens_list[0], tokens_label[0], tokens_en[0]"
   ]
  },
  {
   "cell_type": "code",
   "execution_count": 9,
   "metadata": {},
   "outputs": [],
   "source": [
    "def count(tokens_en, tokens_label):\n",
    "    '''\n",
    "    count positive, negative emissions, total occurence, and 2-gram sequence occurence\n",
    "    '''\n",
    "    concat_tokens_id = []\n",
    "    concat_tokens_label = []\n",
    "    concat_gram_label = []\n",
    "    \n",
    "    for i in range(len(tokens_en)):\n",
    "        for j in range(len(tokens_en[i])):\n",
    "            if j < len(tokens_en[i])-1:\n",
    "                concat_gram_label += [(tokens_label[i][j], tokens_label[i][j+1])]\n",
    "        concat_tokens_id += tokens_en[i]\n",
    "        concat_tokens_label += tokens_label[i]\n",
    "    concat = {\n",
    "        'id': concat_tokens_id,\n",
    "        'label': concat_tokens_label\n",
    "    }\n",
    "    concat_tokens = pd.DataFrame(concat)\n",
    "    pos = Counter()\n",
    "    neg = Counter()\n",
    "    total_tag = Counter()\n",
    "    gram_tag = Counter()\n",
    "    pos.update(concat_tokens[concat_tokens['label']==0]['id'])\n",
    "    neg.update(concat_tokens[concat_tokens['label']==1]['id'])\n",
    "    total_tag.update(concat_tokens['label'])\n",
    "    gram_tag.update(concat_gram_label)\n",
    "    return pos, neg, total_tag, gram_tag, concat_tokens_id"
   ]
  },
  {
   "cell_type": "code",
   "execution_count": 10,
   "metadata": {},
   "outputs": [],
   "source": [
    "def get_prob(pos, neg, total_tag, gram_tag, total_tokens, alpha_tran=1e6, alpha_emis=1e-5):\n",
    "    '''\n",
    "    get probability of transition and emission with smoothing technique\n",
    "    '''\n",
    "    prob_tran = {}\n",
    "    prob_emis_pos = {}\n",
    "    prob_emis_neg = {}\n",
    "    for tup in gram_tag.keys():\n",
    "        prob_tran[tup] = (gram_tag[tup] + alpha_tran)/(total_tag[tup[0]] + alpha_tran * 4)\n",
    "    for index in total_tokens:\n",
    "        prob_emis_pos[index] = (pos[index] + alpha_emis)/(total_tokens[index] + alpha_emis * len(total_tokens))\n",
    "        prob_emis_neg[index] = (neg[index] + alpha_emis)/(total_tokens[index] + alpha_emis * len(total_tokens))\n",
    "    return prob_tran, prob_emis_pos, prob_emis_neg\n",
    "    "
   ]
  },
  {
   "cell_type": "code",
   "execution_count": 11,
   "metadata": {},
   "outputs": [],
   "source": [
    "pos, neg, total_tag, gram_tag, total_tokens = count(tokens_en, tokens_label)\n",
    "prob_tran, prob_emis_pos, prob_emis_neg = get_prob(pos, neg, total_tag, gram_tag, total_tokens)"
   ]
  },
  {
   "cell_type": "code",
   "execution_count": 12,
   "metadata": {},
   "outputs": [
    {
     "data": {
      "text/plain": [
       "(0.2504837302898512,\n",
       " 0.30581312004638805,\n",
       " 0.23224477070004337,\n",
       " 0.2532923427727718)"
      ]
     },
     "execution_count": 12,
     "metadata": {},
     "output_type": "execute_result"
    }
   ],
   "source": [
    "prob_tran[(1,0)],prob_tran[(0,0)],prob_tran[(0,1)],prob_tran[(1,1)]"
   ]
  },
  {
   "cell_type": "code",
   "execution_count": 13,
   "metadata": {},
   "outputs": [
    {
     "data": {
      "text/plain": [
       "(0.09176363986203367, 0.5446615834715204)"
      ]
     },
     "execution_count": 13,
     "metadata": {},
     "output_type": "execute_result"
    }
   ],
   "source": [
    "prob_emis_pos[tokenizer.convert_tokens_to_ids('stupid')],prob_emis_neg[tokenizer.convert_tokens_to_ids('stupid')]"
   ]
  },
  {
   "cell_type": "code",
   "execution_count": 14,
   "metadata": {},
   "outputs": [],
   "source": [
    "def predict(tokens, dp, trace):\n",
    "    result = []\n",
    "    curr = np.argmax([dp[0, len(tokens)-1], dp[1, len(tokens)-1]])\n",
    "    result.append(curr)\n",
    "    for i in np.arange(len(tokens)-2,-1,-1):\n",
    "        if trace[curr, i+1] == 1:\n",
    "            curr = 1\n",
    "            result.append(curr)\n",
    "        else:\n",
    "            curr = 0\n",
    "            result.append(curr)\n",
    "    return result[::-1]"
   ]
  },
  {
   "cell_type": "code",
   "execution_count": 15,
   "metadata": {},
   "outputs": [],
   "source": [
    "def tagging(test_str, prob_tran, prob_emis_pos, prob_emis_neg, total_tag):\n",
    "    tokens_de = bert_token_labeling(test_str)[0][0]\n",
    "    tokens_en = bert_token_labeling(test_str)[1][0]\n",
    "    \n",
    "    concat_tokens_id = []\n",
    "    concat_tokens_value = []\n",
    "    concat_gram_id = []\n",
    "    \n",
    "    for i in range(len(tokens_en)):\n",
    "        if i < len(tokens_en)-1:\n",
    "            concat_gram_id += [(tokens_en[i], tokens_en[i+1])]\n",
    "        concat_tokens_id += [tokens_en[i]]\n",
    "        concat_tokens_value += [tokens_de[i]]\n",
    "    \n",
    "    dp = np.zeros((2,len(concat_tokens_id)))\n",
    "    trace = np.zeros((2,len(concat_tokens_id)))\n",
    "    \n",
    " \n",
    "    for num, i in enumerate(concat_tokens_id):\n",
    "        if num == 0:\n",
    "            if i in prob_emis_pos and i in prob_emis_neg:\n",
    "                dp[0,num] = prob_emis_pos[i]\n",
    "                dp[1,num] = prob_emis_neg[i]\n",
    "                trace[0,num] = np.argmax([prob_emis_pos[i], prob_emis_neg[i]])\n",
    "                trace[1,num] = np.argmax([prob_emis_pos[i], prob_emis_neg[i]])\n",
    "            else:\n",
    "                dp[0,num] = 0\n",
    "                dp[1,num] = 0\n",
    "                trace[0,num] = 0\n",
    "                trace[1,num] = 0\n",
    "            \n",
    "        else:\n",
    "            if i not in prob_emis_pos:\n",
    "                prob_emis_pos[i] = 1/len(total_tag)\n",
    "            if i not in prob_emis_neg:\n",
    "                prob_emis_neg[i] = 1/len(total_tag)\n",
    "            trace[0,num] = np.argmax([dp[0,num-1] * prob_tran[(0,0)] * prob_emis_pos[i], dp[1,num-1] * prob_tran[(1,0)] * prob_emis_pos[i]])\n",
    "            trace[1,num] = np.argmax([dp[0,num-1] * prob_tran[(0,1)] * prob_emis_neg[i], dp[1,num-1] * prob_tran[(1,1)] * prob_emis_neg[i]])\n",
    "            dp[0,num] = np.max([dp[0,num-1] * prob_tran[(0,0)] * prob_emis_pos[i], dp[1,num-1] * prob_tran[(1,0)] * prob_emis_pos[i]])\n",
    "            dp[1,num] = np.max([dp[0,num-1] * prob_tran[(0,1)] * prob_emis_neg[i], dp[1,num-1] * prob_tran[(1,1)] * prob_emis_neg[i]])\n",
    "            \n",
    "    result_index = predict(concat_tokens_id, dp, trace)\n",
    "    result_dict = {\n",
    "        \"tokens\": concat_tokens_value,\n",
    "        \"result_index\": result_index\n",
    "    }\n",
    "    result_df = pd.DataFrame(result_dict)\n",
    "    for i in range(result_df.shape[0]):\n",
    "        if result_df.iloc[i, 0][0][0] == '#' and len(result_df.iloc[i, 0][0]) > 1:\n",
    "            if result_df.iloc[i, 0][0][1] == '#':\n",
    "                result_df.iloc[i, 1] = result_df.iloc[i-1, 1]\n",
    "    return result_df\n",
    "            \n",
    "            "
   ]
  },
  {
   "cell_type": "code",
   "execution_count": 16,
   "metadata": {},
   "outputs": [],
   "source": [
    "def verification(test, prob_tran, prob_emis_pos, prob_emis_neg, total_tag):\n",
    "    total_result = []\n",
    "    for i in test:\n",
    "        result = []\n",
    "        result_df = tagging([i], prob_tran, prob_emis_pos, prob_emis_neg, total_tag)\n",
    "        toxic_list = result_df[result_df['result_index']==1][\"tokens\"]\n",
    "        for tup in toxic_list:\n",
    "            for toxic in range(tup[1][0], tup[1][1]):\n",
    "                result.append(toxic)\n",
    "        total_result.append(result)\n",
    "    return total_result"
   ]
  },
  {
   "cell_type": "code",
   "execution_count": null,
   "metadata": {},
   "outputs": [],
   "source": []
  },
  {
   "cell_type": "code",
   "execution_count": 17,
   "metadata": {},
   "outputs": [],
   "source": [
    "# sent1 = [\"Damn, a whole family. Sad indeed.\"]\n",
    "# sent2 = [\"Another violent and aggressive immigrant killing a innocent and intelligent US Citizen.... Sarcasm\"]\n",
    "# sent3 = [\"You damn right I can resent it when people offend me.  You said what you said. It was offensive. I responded.  All you whiners and losers can't figure out how many illegal alien votes you got. You are in a big river in EGYPT.  All you Democrats have a severe case of Cranial-Anal Impaction.\"]\n",
    "# sent4 = [\"Rochdale... you warped pile of fetid garbage.  Crawl back in your stinking hole.\"]\n",
    "# sent5 = [\"I fuck you.\"]\n",
    "# sent6 = [\"What a knucklehead. How can anyone not know this would be offensive??\"]\n",
    "# sent7 = [\"Too bad.  Jeff Sessions has no common sense and is nearly as mean and morally repugnant as his boss, Trump.\"]\n",
    "# sent8 = [\"They elected Trump, which was certainly a mistake. Judges, however, rarely make stupid mistakes.\"]\n",
    "# result_test = tagging(sent6, prob_tran, prob_emis_pos, prob_emis_neg, total_tag)\n",
    "# result_test.head(50)"
   ]
  },
  {
   "cell_type": "code",
   "execution_count": 18,
   "metadata": {},
   "outputs": [],
   "source": [
    "def all_f1_score(result, sent_label):\n",
    "    intersect_num = 0\n",
    "    result_num = 0\n",
    "    origin_num = 0\n",
    "    for i in range(len(result)):\n",
    "        for result_loc in result[i]:\n",
    "            result_num += 1\n",
    "            if result_loc in json.loads(sent_label[i]):\n",
    "                intersect_num += 1\n",
    "        for origin_loc in json.loads(sent_label[i]):\n",
    "            origin_num += 1\n",
    "\n",
    "    precision = intersect_num / result_num\n",
    "    recall = intersect_num / origin_num\n",
    "    F1 = 2 * precision * recall / (precision + recall)\n",
    "    print(intersect_num, result_num, origin_num)\n",
    "    return precision, recall, F1"
   ]
  },
  {
   "cell_type": "code",
   "execution_count": 19,
   "metadata": {},
   "outputs": [],
   "source": [
    "def avg_f1_score(result, sent_label):\n",
    "    F1 = []\n",
    "    for i in range(len(result)):\n",
    "        intersect_num = 0\n",
    "        result_num = 0\n",
    "        origin_num = 0\n",
    "        for result_loc in result[i]:\n",
    "            result_num += 1\n",
    "            if result_loc in json.loads(sent_label[i]):\n",
    "                intersect_num += 1\n",
    "        for origin_loc in json.loads(sent_label[i]):\n",
    "            origin_num += 1\n",
    "        if intersect_num == 0:\n",
    "            precision = recall = 0\n",
    "        else:\n",
    "            precision = intersect_num / result_num\n",
    "            recall = intersect_num / origin_num\n",
    "        if precision == 0 or recall == 0:\n",
    "            F1_ = 0\n",
    "        else:\n",
    "            F1_ = 2 * precision * recall / (precision + recall)\n",
    "        F1.append(F1_)\n",
    "    return F1"
   ]
  },
  {
   "cell_type": "code",
   "execution_count": 20,
   "metadata": {},
   "outputs": [],
   "source": [
    "result = verification(sent_list, prob_tran, prob_emis_pos, prob_emis_neg, total_tag)"
   ]
  },
  {
   "cell_type": "code",
   "execution_count": 21,
   "metadata": {},
   "outputs": [
    {
     "name": "stdout",
     "output_type": "stream",
     "text": [
      "38747 52555 139115\n"
     ]
    },
    {
     "data": {
      "text/plain": [
       "(0.7372657216249643, 0.2785249613629012, 0.40430949026973445)"
      ]
     },
     "execution_count": 21,
     "metadata": {},
     "output_type": "execute_result"
    }
   ],
   "source": [
    "precision, recall, F1 = all_f1_score(result, sent_label)\n",
    "precision, recall, F1"
   ]
  },
  {
   "cell_type": "code",
   "execution_count": 22,
   "metadata": {},
   "outputs": [
    {
     "data": {
      "text/plain": [
       "0.5096809370494892"
      ]
     },
     "execution_count": 22,
     "metadata": {},
     "output_type": "execute_result"
    }
   ],
   "source": [
    "F1 = avg_f1_score(result, sent_label)\n",
    "np.mean(F1)"
   ]
  },
  {
   "cell_type": "code",
   "execution_count": 23,
   "metadata": {},
   "outputs": [
    {
     "name": "stdout",
     "output_type": "stream",
     "text": [
      "2000\n"
     ]
    },
    {
     "data": {
      "image/png": "[encoded data removed]",
      "text/plain": [
       "<Figure size 432x288 with 1 Axes>"
      ]
     },
     "metadata": {
      "needs_background": "light"
     },
     "output_type": "display_data"
    },
    {
     "name": "stdout",
     "output_type": "stream",
     "text": [
      "\"watch people die from taking away their healthcare\"\n",
      "\n",
      "ding ding ding!  winner of stupid post of the day award!\n"
     ]
    },
    {
     "data": {
      "image/png": "[encoded data removed]",
      "text/plain": [
       "<Figure size 432x288 with 1 Axes>"
      ]
     },
     "metadata": {
      "needs_background": "light"
     },
     "output_type": "display_data"
    },
    {
     "name": "stdout",
     "output_type": "stream",
     "text": [
      "['\"watch', 'people', 'die', 'from', 'taking', 'away', 'their', 'healthcare\"', 'ding', 'ding', 'ding!', 'winner', 'of', 'stupid', 'post', 'of', 'the', 'day', 'award!']\n"
     ]
    },
    {
     "data": {
      "image/png": "[encoded data removed]",
      "text/plain": [
       "<Figure size 432x288 with 1 Axes>"
      ]
     },
     "metadata": {
      "needs_background": "light"
     },
     "output_type": "display_data"
    },
    {
     "name": "stdout",
     "output_type": "stream",
     "text": [
      "['\"', 'watch', 'people', 'die', 'from', 'taking', 'away', 'their', 'healthcare', '\"', 'ding', 'ding', 'ding', '!', 'winner', 'of', 'stupid', 'post', 'of', 'the', 'day', 'award', '!']\n"
     ]
    }
   ],
   "source": [
    "sent_list_test, sent_label_test, tokens_list_test = read_data(workDir + testfile)\n",
    "result_test = verification(sent_list_test, prob_tran, prob_emis_pos, prob_emis_neg, total_tag)"
   ]
  },
  {
   "cell_type": "code",
   "execution_count": 36,
   "metadata": {},
   "outputs": [
    {
     "name": "stdout",
     "output_type": "stream",
     "text": [
      "8361 14456 14589\n"
     ]
    },
    {
     "data": {
      "text/plain": [
       "(0.5783757609297178, 0.5731030228254164, 0.5757273196763643)"
      ]
     },
     "execution_count": 36,
     "metadata": {},
     "output_type": "execute_result"
    }
   ],
   "source": [
    "precision, recall, F1 = all_f1_score(result_test, sent_label_test)\n",
    "precision, recall, F1"
   ]
  },
  {
   "cell_type": "code",
   "execution_count": 37,
   "metadata": {},
   "outputs": [
    {
     "data": {
      "text/plain": [
       "0.5304954689230249"
      ]
     },
     "execution_count": 37,
     "metadata": {},
     "output_type": "execute_result"
    }
   ],
   "source": [
    "F1 = avg_f1_score(result_test, sent_label_test)\n",
    "np.mean(F1)"
   ]
  },
  {
   "cell_type": "code",
   "execution_count": 26,
   "metadata": {},
   "outputs": [],
   "source": [
    "def baseline(test_str, prob_emis_pos, prob_emis_neg):\n",
    "    tokens_de = bert_token_labeling(test_str)[0][0]\n",
    "    tokens_en = bert_token_labeling(test_str)[1][0]\n",
    "    \n",
    "    concat_tokens_id = []\n",
    "    concat_tokens_value = []\n",
    "    result_index = []\n",
    "\n",
    "    for i in range(len(tokens_en)):\n",
    "        concat_tokens_id += [tokens_en[i]]\n",
    "        concat_tokens_value += [tokens_de[i]]\n",
    "            \n",
    "        \n",
    "    dp = np.zeros((2,len(concat_tokens_id)))\n",
    "    trace = np.zeros((2,len(concat_tokens_id)))\n",
    "\n",
    "    for num, i in enumerate(concat_tokens_id):\n",
    "        if i in prob_emis_pos and i in prob_emis_neg:\n",
    "            result_index.append(np.argmax([prob_emis_pos[i], prob_emis_neg[i]]))\n",
    "        else:\n",
    "            result_index.append(0)\n",
    "        \n",
    "    result_dict = {\n",
    "        \"tokens\": concat_tokens_value,\n",
    "        \"result_index\": result_index\n",
    "    }\n",
    "    result_df = pd.DataFrame(result_dict)\n",
    "    for i in range(result_df.shape[0]):\n",
    "        if result_df.iloc[i, 0][0][0] == '#' and len(result_df.iloc[i, 0][0]) > 1:\n",
    "            if result_df.iloc[i, 0][0][1] == '#':\n",
    "                result_df.iloc[i, 1] = result_df.iloc[i-1, 1]\n",
    "\n",
    "    return result_df"
   ]
  },
  {
   "cell_type": "code",
   "execution_count": 27,
   "metadata": {},
   "outputs": [],
   "source": [
    "def baseline_verification(test, prob_tran, prob_emis_pos, prob_emis_neg, total_tag):\n",
    "    total_result = []\n",
    "    for i in test:\n",
    "        result = []\n",
    "        result_df = baseline([i], prob_emis_pos, prob_emis_neg)\n",
    "        toxic_list = result_df[result_df['result_index']==1][\"tokens\"]\n",
    "        for tup in toxic_list:\n",
    "            for toxic in range(tup[1][0], tup[1][1]):\n",
    "                result.append(toxic)\n",
    "        total_result.append(result)\n",
    "    return total_result"
   ]
  },
  {
   "cell_type": "code",
   "execution_count": null,
   "metadata": {},
   "outputs": [],
   "source": []
  },
  {
   "cell_type": "code",
   "execution_count": 28,
   "metadata": {},
   "outputs": [],
   "source": [
    "result_baseline = baseline_verification(sent_list, prob_tran, prob_emis_pos, prob_emis_neg, total_tag)"
   ]
  },
  {
   "cell_type": "code",
   "execution_count": null,
   "metadata": {},
   "outputs": [],
   "source": [
    "result_baseline "
   ]
  },
  {
   "cell_type": "code",
   "execution_count": 29,
   "metadata": {},
   "outputs": [
    {
     "name": "stdout",
     "output_type": "stream",
     "text": [
      "44581 64139 139115\n"
     ]
    },
    {
     "data": {
      "text/plain": [
       "(0.6950685230514976, 0.32046148869640223, 0.4386727936473575)"
      ]
     },
     "execution_count": 29,
     "metadata": {},
     "output_type": "execute_result"
    }
   ],
   "source": [
    "precision, recall, F1 = all_f1_score(result_baseline, sent_label)\n",
    "precision, recall, F1"
   ]
  },
  {
   "cell_type": "code",
   "execution_count": 30,
   "metadata": {},
   "outputs": [
    {
     "data": {
      "text/plain": [
       "0.5615387697163204"
      ]
     },
     "execution_count": 30,
     "metadata": {},
     "output_type": "execute_result"
    }
   ],
   "source": [
    "F1_avg = avg_f1_score(result_baseline, sent_label)\n",
    "np.mean(F1_avg)"
   ]
  },
  {
   "cell_type": "code",
   "execution_count": 31,
   "metadata": {},
   "outputs": [
    {
     "name": "stdout",
     "output_type": "stream",
     "text": [
      "2000\n"
     ]
    },
    {
     "data": {
      "image/png": "[encoded data removed]",
      "text/plain": [
       "<Figure size 432x288 with 1 Axes>"
      ]
     },
     "metadata": {
      "needs_background": "light"
     },
     "output_type": "display_data"
    },
    {
     "name": "stdout",
     "output_type": "stream",
     "text": [
      "\"watch people die from taking away their healthcare\"\n",
      "\n",
      "ding ding ding!  winner of stupid post of the day award!\n"
     ]
    },
    {
     "data": {
      "image/png": "[encoded data removed]",
      "text/plain": [
       "<Figure size 432x288 with 1 Axes>"
      ]
     },
     "metadata": {
      "needs_background": "light"
     },
     "output_type": "display_data"
    },
    {
     "name": "stdout",
     "output_type": "stream",
     "text": [
      "['\"watch', 'people', 'die', 'from', 'taking', 'away', 'their', 'healthcare\"', 'ding', 'ding', 'ding!', 'winner', 'of', 'stupid', 'post', 'of', 'the', 'day', 'award!']\n"
     ]
    },
    {
     "data": {
      "image/png": "[encoded data removed]",
      "text/plain": [
       "<Figure size 432x288 with 1 Axes>"
      ]
     },
     "metadata": {
      "needs_background": "light"
     },
     "output_type": "display_data"
    },
    {
     "name": "stdout",
     "output_type": "stream",
     "text": [
      "['\"', 'watch', 'people', 'die', 'from', 'taking', 'away', 'their', 'healthcare', '\"', 'ding', 'ding', 'ding', '!', 'winner', 'of', 'stupid', 'post', 'of', 'the', 'day', 'award', '!']\n"
     ]
    }
   ],
   "source": [
    "sent_list_test, sent_label_test, tokens_list_test = read_data(workDir + testfile)\n",
    "result_baseline_test = baseline_verification(sent_list_test, prob_tran, prob_emis_pos, prob_emis_neg, total_tag)"
   ]
  },
  {
   "cell_type": "code",
   "execution_count": 32,
   "metadata": {},
   "outputs": [
    {
     "name": "stdout",
     "output_type": "stream",
     "text": [
      "Average F1: 0.5689063784664361\n"
     ]
    }
   ],
   "source": [
    "F1 = avg_f1_score(result_baseline_test, sent_label_test)\n",
    "print('Average F1:', np.mean(F1))"
   ]
  },
  {
   "cell_type": "code",
   "execution_count": 33,
   "metadata": {},
   "outputs": [
    {
     "name": "stdout",
     "output_type": "stream",
     "text": [
      "9264 17303 14589\n"
     ]
    },
    {
     "data": {
      "text/plain": [
       "(0.5353984858117089, 0.6349989718280896, 0.5809607425059575)"
      ]
     },
     "execution_count": 33,
     "metadata": {},
     "output_type": "execute_result"
    }
   ],
   "source": [
    "precision, recall, F1 = all_f1_score(result_baseline_test, sent_label_test)\n",
    "precision, recall, F1"
   ]
  },
  {
   "cell_type": "code",
   "execution_count": null,
   "metadata": {},
   "outputs": [],
   "source": []
  }
 ],
 "metadata": {
  "kernelspec": {
   "display_name": "Python 3",
   "language": "python",
   "name": "python3"
  },
  "language_info": {
   "codemirror_mode": {
    "name": "ipython",
    "version": 3
   },
   "file_extension": ".py",
   "mimetype": "text/x-python",
   "name": "python",
   "nbconvert_exporter": "python",
   "pygments_lexer": "ipython3",
   "version": "3.8.5"
  }
 },
 "nbformat": 4,
 "nbformat_minor": 4
}
